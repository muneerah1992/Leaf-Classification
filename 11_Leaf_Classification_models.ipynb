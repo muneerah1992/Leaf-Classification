{
 "cells": [
  {
   "cell_type": "code",
   "execution_count": 1,
   "metadata": {},
   "outputs": [],
   "source": [
    "import numpy as np\n",
    "import pandas as pd\n",
    "import matplotlib.pyplot as plt\n",
    "\n",
    "import itertools, time, datetime\n",
    "from collections import Counter\n",
    "\n",
    "import os\n",
    "\n",
    "def warn(*args, **kwargs): pass\n",
    "import warnings\n",
    "warnings.warn = warn\n",
    "warnings.simplefilter('ignore')\n",
    "\n",
    "from keras.preprocessing.image import load_img\n",
    "from keras.models import Sequential\n",
    "from keras.layers import Dense, Activation, Flatten, Dropout\n",
    "from keras.optimizers import SGD\n",
    "from keras.utils import np_utils\n",
    "\n",
    "from sklearn.model_selection import train_test_split, StratifiedShuffleSplit\n",
    "from sklearn.preprocessing import StandardScaler, LabelEncoder\n",
    "\n",
    "from sklearn.metrics import accuracy_score\n",
    "\n",
    "from sklearn.neighbors import KNeighborsClassifier\n",
    "from sklearn.svm import SVC, NuSVC\n",
    "from sklearn.tree import DecisionTreeClassifier\n",
    "from sklearn.ensemble import RandomForestClassifier, GradientBoostingClassifier\n",
    "from sklearn.naive_bayes import GaussianNB\n",
    "from sklearn.discriminant_analysis import LinearDiscriminantAnalysis\n",
    "from sklearn.linear_model import LogisticRegression\n",
    "from sklearn.neural_network import MLPClassifier\n",
    "from xgboost import XGBClassifier\n"
   ]
  },
  {
   "cell_type": "code",
   "execution_count": 2,
   "metadata": {},
   "outputs": [],
   "source": [
    "# Read training and testing data for Dataset-1 \n",
    "train_DS1 = pd.read_csv('Datasets/Dataset1_Training.csv')\n",
    "test_DS1 = pd.read_csv('Datasets/Dataset1_Testing.csv')\n",
    "\n",
    "# Read training and testing data for Dataset-2 \n",
    "train_DS2 = pd.read_csv('Datasets/Dataset2_Training.csv')\n",
    "test_DS2 = pd.read_csv('Datasets/Dataset2_Testing.csv')"
   ]
  },
  {
   "cell_type": "code",
   "execution_count": 3,
   "metadata": {},
   "outputs": [],
   "source": [
    "# Data Preparation \n",
    "\n",
    "def encode(train, test):\n",
    "    le = LabelEncoder().fit(train.species) \n",
    "    labels = le.transform(train.species)           # encode species strings\n",
    "    \n",
    "    train = train.drop(['species', 'id'], axis=1)  \n",
    "    test = test.drop(['id'], axis=1)\n",
    "    \n",
    "    return labels, train, test\n"
   ]
  },
  {
   "cell_type": "code",
   "execution_count": 4,
   "metadata": {},
   "outputs": [],
   "source": [
    "# encode the dataset\n",
    "\n",
    "labels, train, test = encode(train_DS2, test_DS2)\n"
   ]
  },
  {
   "cell_type": "code",
   "execution_count": 5,
   "metadata": {},
   "outputs": [],
   "source": [
    "# standardize train features using standard deviation \n",
    "\n",
    "scaler = StandardScaler().fit(train.values)\n",
    "scaled_train = scaler.transform(train.values)\n"
   ]
  },
  {
   "cell_type": "code",
   "execution_count": 6,
   "metadata": {},
   "outputs": [],
   "source": [
    "# Stratified Train/Test Split\n",
    "    \n",
    "sss = StratifiedShuffleSplit(random_state=23)\n",
    "for train_index, test_index in sss.split(scaled_train, labels):\n",
    "    X_train, X_test = scaled_train[train_index], scaled_train[test_index]\n",
    "    y_train, y_test = labels[train_index], labels[test_index]\n",
    "    "
   ]
  },
  {
   "cell_type": "code",
   "execution_count": 7,
   "metadata": {},
   "outputs": [],
   "source": [
    "# Timer \n",
    "\n",
    "# Utility custom contextual class for calculating \n",
    "# the time taken for a certain code block to execute\n",
    "    \n",
    "class CodeTimer:\n",
    "    \n",
    "    def __init__(self, name=None):\n",
    "        self.name = \" '\"  + name + \"'\" if name else ''\n",
    "\n",
    "    def __enter__(self):\n",
    "        self.start = time.perf_counter()\n",
    "\n",
    "    def __exit__(self, exc_type, exc_value, traceback):\n",
    "        self.took = (time.perf_counter() - self.start) * 1000.0\n",
    "        time_taken = datetime.timedelta(milliseconds = self.took)\n",
    "        print('Code block' + self.name + ' took(HH:MM:SS): ' + str(time_taken))\n"
   ]
  },
  {
   "cell_type": "code",
   "execution_count": 8,
   "metadata": {},
   "outputs": [],
   "source": [
    "# Array of Sklearn Classifier models \n",
    "classifiers = [\n",
    "    KNeighborsClassifier(7),\n",
    "    NuSVC(probability=True),    \n",
    "    SVC(kernel = 'rbf', probability=True),\n",
    "    DecisionTreeClassifier(),\n",
    "    RandomForestClassifier(),\n",
    "    GradientBoostingClassifier(),\n",
    "    XGBClassifier(n_estimators=100,learning_rate=.05,max_depth=6),\n",
    "    GaussianNB(),\n",
    "    LogisticRegression(multi_class = 'multinomial'),\n",
    "    LinearDiscriminantAnalysis(),\n",
    "    MLPClassifier()\n",
    "]\n",
    "\n",
    "# Array of Sklearn Classifier names \n",
    "classifier_names = []\n",
    "for clf in classifiers:\n",
    "    classifier_names.append(clf.__class__.__name__)\n"
   ]
  },
  {
   "cell_type": "code",
   "execution_count": 9,
   "metadata": {},
   "outputs": [],
   "source": [
    "def runAndPredict(model, model_name, x_train, y_train, x_test, y_test):\n",
    "    \n",
    "    print(\"=\"*30)\n",
    "    print(model_name)\n",
    "    \n",
    "    response = {}\n",
    "    # define an object for training timer\n",
    "    training_timer = CodeTimer('training')\n",
    "    # define an object for testing timer \n",
    "    testing_timer = CodeTimer('testing')\n",
    "    \n",
    "    # fit training data\n",
    "    model.fit(X_train, y_train)\n",
    "    \n",
    "    # calculate training time\n",
    "    with training_timer:        \n",
    "        train_predictions = model.predict(X_test)\n",
    "                \n",
    "    # calculate testing time\n",
    "    with testing_timer:\n",
    "        y_prediction = model.predict_proba(X_test)    \n",
    "    \n",
    "    # calculate the accuracy of the prediction \n",
    "    acc = accuracy_score(y_test, train_predictions)\n",
    "    print(\"Accuracy: {:.4%}\".format(acc))\n",
    "    \n",
    "    response['testing_time'] = testing_timer.took\n",
    "    response['y_prediction'] = y_prediction\n",
    "    response['training_time'] = training_timer.took    \n",
    "    response['accuracy_score'] = acc\n",
    "    \n",
    "    return response"
   ]
  },
  {
   "cell_type": "code",
   "execution_count": 10,
   "metadata": {},
   "outputs": [
    {
     "name": "stdout",
     "output_type": "stream",
     "text": [
      "==============================\n",
      "KNeighborsClassifier\n",
      "Code block 'training' took(HH:MM:SS): 0:00:00.071586\n",
      "Code block 'testing' took(HH:MM:SS): 0:00:00.055423\n",
      "Accuracy: 93.7500%\n",
      "==============================\n",
      "==============================\n",
      "NuSVC\n",
      "Code block 'training' took(HH:MM:SS): 0:00:00.081710\n",
      "Code block 'testing' took(HH:MM:SS): 0:00:00.120308\n",
      "Accuracy: 93.7500%\n",
      "==============================\n",
      "==============================\n",
      "SVC\n",
      "Code block 'training' took(HH:MM:SS): 0:00:00.053855\n",
      "Code block 'testing' took(HH:MM:SS): 0:00:00.082591\n",
      "Accuracy: 94.3750%\n",
      "==============================\n",
      "==============================\n",
      "DecisionTreeClassifier\n",
      "Code block 'training' took(HH:MM:SS): 0:00:00.000266\n",
      "Code block 'testing' took(HH:MM:SS): 0:00:00.000709\n",
      "Accuracy: 61.2500%\n",
      "==============================\n",
      "==============================\n",
      "RandomForestClassifier\n",
      "Code block 'training' took(HH:MM:SS): 0:00:00.015684\n",
      "Code block 'testing' took(HH:MM:SS): 0:00:00.016250\n",
      "Accuracy: 96.8750%\n",
      "==============================\n",
      "==============================\n",
      "GradientBoostingClassifier\n",
      "Code block 'training' took(HH:MM:SS): 0:00:00.014138\n",
      "Code block 'testing' took(HH:MM:SS): 0:00:00.014606\n",
      "Accuracy: 80.0000%\n",
      "==============================\n",
      "==============================\n",
      "XGBClassifier\n",
      "[01:28:08] WARNING: /Users/travis/build/dmlc/xgboost/src/learner.cc:1061: Starting in XGBoost 1.3.0, the default evaluation metric used with the objective 'multi:softprob' was changed from 'merror' to 'mlogloss'. Explicitly set eval_metric if you'd like to restore the old behavior.\n",
      "Code block 'training' took(HH:MM:SS): 0:00:00.006164\n",
      "Code block 'testing' took(HH:MM:SS): 0:00:00.004986\n",
      "Accuracy: 86.2500%\n",
      "==============================\n",
      "==============================\n",
      "GaussianNB\n",
      "Code block 'training' took(HH:MM:SS): 0:00:00.013053\n",
      "Code block 'testing' took(HH:MM:SS): 0:00:00.013056\n",
      "Accuracy: 78.1250%\n",
      "==============================\n",
      "==============================\n",
      "LogisticRegression\n",
      "Code block 'training' took(HH:MM:SS): 0:00:00.000447\n",
      "Code block 'testing' took(HH:MM:SS): 0:00:00.000927\n",
      "Accuracy: 96.2500%\n",
      "==============================\n",
      "==============================\n",
      "LinearDiscriminantAnalysis\n",
      "Code block 'training' took(HH:MM:SS): 0:00:00.000281\n",
      "Code block 'testing' took(HH:MM:SS): 0:00:00.000770\n",
      "Accuracy: 96.8750%\n",
      "==============================\n",
      "==============================\n",
      "MLPClassifier\n",
      "Code block 'training' took(HH:MM:SS): 0:00:00.000546\n",
      "Code block 'testing' took(HH:MM:SS): 0:00:00.000896\n",
      "Accuracy: 94.3750%\n",
      "==============================\n",
      "Code block 'overalltime' took(HH:MM:SS): 0:05:48.291060\n",
      "348291.059852\n"
     ]
    }
   ],
   "source": [
    "# define an object for the timer \n",
    "timer = CodeTimer(name='overalltime')\n",
    "\n",
    "model_metrics = {}\n",
    "\n",
    "with timer:\n",
    "    # run each model, fit training data and make prediction and calculate the time \n",
    "    for model, model_name in zip(classifiers, classifier_names):\n",
    "\n",
    "        result = runAndPredict(model, model_name, X_train, y_train, X_test, y_test)\n",
    "\n",
    "        y_prediction = result['y_prediction']\n",
    "\n",
    "        model_metrics[model_name] = {}\n",
    "        model_metrics[model_name]['training_time'] = result['training_time']\n",
    "        model_metrics[model_name]['testing_time'] = result['testing_time']\n",
    "        model_metrics[model_name]['accuracy_score'] = result['accuracy_score']\n",
    "        print(\"=\"*30)\n",
    "\n",
    "        \n",
    "print(timer.took)\n"
   ]
  },
  {
   "cell_type": "code",
   "execution_count": 11,
   "metadata": {},
   "outputs": [
    {
     "name": "stdout",
     "output_type": "stream",
     "text": [
      "                            training_time  testing_time  accuracy_score\n",
      "KNeighborsClassifier             0.875687      0.457477         0.93750\n",
      "NuSVC                            1.000000      1.000000         0.93750\n",
      "SVC                              0.657981      0.684635         0.94375\n",
      "DecisionTreeClassifier           0.000000      0.000000         0.61250\n",
      "RandomForestClassifier           0.189306      0.129942         0.96875\n",
      "GradientBoostingClassifier       0.170325      0.116199         0.80000\n",
      "XGBClassifier                    0.072419      0.035766         0.86250\n",
      "GaussianNB                       0.156998      0.103234         0.78125\n",
      "LogisticRegression               0.002224      0.001827         0.96250\n",
      "LinearDiscriminantAnalysis       0.000177      0.000514         0.96875\n",
      "MLPClassifier                    0.003442      0.001563         0.94375\n"
     ]
    },
    {
     "data": {
      "image/png": "[encoded data removed]",
      "text/plain": [
       "<Figure size 864x720 with 1 Axes>"
      ]
     },
     "metadata": {
      "needs_background": "light"
     },
     "output_type": "display_data"
    }
   ],
   "source": [
    "# convert model_metrics into panda data frame\n",
    "model_estimates = pd.DataFrame(model_metrics).transpose()\n",
    "\n",
    "\n",
    "#print out across model estimations and accuracy score bar chart\n",
    "model_estimates['testing_time'] = model_estimates['testing_time'].astype('float64')\n",
    "model_estimates['training_time'] = model_estimates['training_time'].astype('float64')\n",
    "\n",
    "#scaling time parameters between 0 and 1\n",
    "model_estimates['testing_time'] = (model_estimates['testing_time']- model_estimates['testing_time'].min())/(model_estimates['testing_time'].max()- model_estimates['testing_time'].min())\n",
    "model_estimates['training_time'] = (model_estimates['training_time']- model_estimates['training_time'].min())/(model_estimates['training_time'].max()- model_estimates['training_time'].min())\n",
    "\n",
    "print(model_estimates)\n",
    "model_estimates.plot(kind='barh',figsize=(12, 10))\n",
    "plt.title(\"Scaled Estimates across different classifiers used\")\n",
    "plt.show()"
   ]
  },
  {
   "cell_type": "code",
   "execution_count": null,
   "metadata": {},
   "outputs": [],
   "source": []
  }
 ],
 "metadata": {
  "kernelspec": {
   "display_name": "Python 3",
   "language": "python",
   "name": "python3"
  },
  "language_info": {
   "codemirror_mode": {
    "name": "ipython",
    "version": 3
   },
   "file_extension": ".py",
   "mimetype": "text/x-python",
   "name": "python",
   "nbconvert_exporter": "python",
   "pygments_lexer": "ipython3",
   "version": "3.8.5"
  }
 },
 "nbformat": 4,
 "nbformat_minor": 4
}
